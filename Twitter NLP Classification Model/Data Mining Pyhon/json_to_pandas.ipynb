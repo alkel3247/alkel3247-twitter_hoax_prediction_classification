{
 "cells": [
  {
   "cell_type": "code",
   "execution_count": 1,
   "metadata": {},
   "outputs": [],
   "source": [
    "import pandas as pd\n",
    "import json\n",
    "import pprint\n",
    "\n",
    "\n",
    "\n",
    "from pandas.io.json import json_normalize"
   ]
  },
  {
   "cell_type": "code",
   "execution_count": 2,
   "metadata": {},
   "outputs": [],
   "source": [
    "false = False\n",
    "true = True\n",
    "null = None\n",
    "\n",
    "\n",
    "jsondata = {\"created_at\": \"Sat Jan 18 23:48:40 +0000 2020\", \"id\": 1218681643826843650, \"id_str\": \"1218681643826843650\", \"text\": \"RT @BHCdotcom: March 27, 2012\\n\\nLeino-Roy-Pominville\\nTropp-Hodgson-Vanek\\nFoligno-Ennis-Stafford\\nMcCormick-Boyes-Kaleta\\n\\nEhrhoff-Sulzer\\nSeker\\u2026\", \n",
    "\"truncated\": false, \"entities\": {\"hashtags\": [], \"symbols\": [], \"user_mentions\": [{\"screen_name\": \"BHCdotcom\", \"name\": \"BuffaloHockeyCentral\", \"id\": 210534264, \"id_str\": \"210534264\", \"indices\": [3, 13]}], \"urls\": []}, \"metadata\": {\"iso_language_code\": \"en\", \"result_type\": \"recent\"}, \"source\": \"<a href=\\\"http://twitter.com/download/android\\\" rel=\\\"nofollow\\\">Twitter for Android</a>\",\n",
    " \"in_reply_to_status_id\": null, \"in_reply_to_status_id_str\": null, \"in_reply_to_user_id\": null, \"in_reply_to_user_id_str\": null, \"in_reply_to_screen_name\": null, \"user\": {\"id\": 324262965, \"id_str\": \"324262965\", \"name\": \"Andy Provin\", \"screen_name\": \"AndyProvin\", \"location\": \"Alexandria, VA\", \"description\": \"Stat, info, Excel junkie... want to love the Bills and Sabres like I used to...be excellent to each other\", \"url\": \"https://t.co/mTzt8Gw6bS\", \"entities\": {\"url\": {\"urls\": [{\"url\": \"https://t.co/mTzt8Gw6bS\", \"expanded_url\": \"https://m.youtube.com/channel/UCdQsvGZHJTGL8cpB_6Ki_0g\", \"display_url\": \"m.youtube.com/channel/UCdQsv\\u2026\", \"indices\": [0, 23]}]}, \"description\": {\"urls\": []}}, \"protected\": false, \"followers_count\": 1148, \"friends_count\": 963, \"listed_count\": 10, \"created_at\": \"Sun Jun 26 08:48:44 +0000 2011\", \"favourites_count\": 1840, \"utc_offset\": null, \"time_zone\": null, \"geo_enabled\": true, \"verified\": false, \"statuses_count\": 10474, \"lang\": null, \"contributors_enabled\": false, \"is_translator\": false, \"is_translation_enabled\": false, \"profile_background_color\": \"C0DEED\", \"profile_background_image_url\": \"http://abs.twimg.com/images/themes/theme1/bg.png\", \"profile_background_image_url_https\": \"https://abs.twimg.com/images/themes/theme1/bg.png\", \"profile_background_tile\": false, \"profile_image_url\": \"http://pbs.twimg.com/profile_images/1195210446116143104/0xlnNE-X_normal.jpg\", \"profile_image_url_https\": \"https://pbs.twimg.com/profile_images/1195210446116143104/0xlnNE-X_normal.jpg\", \"profile_banner_url\": \"https://pbs.twimg.com/profile_banners/324262965/1522986474\", \"profile_link_color\": \"1DA1F2\", \"profile_sidebar_border_color\": \"C0DEED\", \"profile_sidebar_fill_color\": \"DDEEF6\", \"profile_text_color\": \"333333\", \"profile_use_background_image\": true, \"has_extended_profile\": true, \"default_profile\": true, \"default_profile_image\": false, \"following\": false, \"follow_request_sent\": false, \"notifications\": false, \"translator_type\": \"none\"}, \"geo\": null, \"coordinates\": null, \"place\": null, \"contributors\": null, \"retweeted_status\": {\"created_at\": \"Fri Jan 17 14:13:47 +0000 2020\", \"id\": 1218174580306644992, \"id_str\": \"1218174580306644992\", \"text\": \"March 27, 2012\\n\\nLeino-Roy-Pominville\\nTropp-Hodgson-Vanek\\nFoligno-Ennis-Stafford\\nMcCormick-Boyes-Kaleta\\n\\nEhrhoff-Sul\\u2026 https://t.co/PnLBI74Kw6\", \"truncated\": true, \"entities\": {\"hashtags\": [], \"symbols\": [], \"user_mentions\": [], \"urls\": [{\"url\": \"https://t.co/PnLBI74Kw6\", \"expanded_url\": \"https://twitter.com/i/web/status/1218174580306644992\", \"display_url\": \"twitter.com/i/web/status/1\\u2026\", \"indices\": [117, 140]}]}, \"metadata\": {\"iso_language_code\": \"en\", \"result_type\": \"recent\"}, \"source\": \"<a href=\\\"http://twitter.com/download/iphone\\\" rel=\\\"nofollow\\\">Twitter for iPhone</a>\", \"in_reply_to_status_id\": null, \"in_reply_to_status_id_str\": null, \"in_reply_to_user_id\": null, \"in_reply_to_user_id_str\": null, \"in_reply_to_screen_name\": null, \"user\": {\"id\": 210534264, \"id_str\": \"210534264\", \"name\": \"BuffaloHockeyCentral\", \"screen_name\": \"BHCdotcom\", \"location\": \"\", \"description\": \"Founded in 2008. BHC strives to provide you with the latest news coverage and best insight available with our great team of writers. #Sabres\", \"url\": \"https://t.co/vrVcnG7Ygq\", \"entities\": {\"url\": {\"urls\": [{\"url\": \"https://t.co/vrVcnG7Ygq\", \"expanded_url\": \"http://buffalohockeycentral.com\", \"display_url\": \"buffalohockeycentral.com\", \"indices\": [0, 23]}]}, \"description\": {\"urls\": []}}, \"protected\": false, \"followers_count\": 1619, \"friends_count\": 161, \"listed_count\": 28, \"created_at\": \"Sun Oct 31 17:28:52 +0000 2010\", \"favourites_count\": 828, \"utc_offset\": null, \"time_zone\": null, \"geo_enabled\": false, \"verified\": false, \"statuses_count\": 12137, \"lang\": null, \"contributors_enabled\": false, \"is_translator\": false, \"is_translation_enabled\": false, \"profile_background_color\": \"022330\", \"profile_background_image_url\": \"http://abs.twimg.com/images/themes/theme15/bg.png\", \"profile_background_image_url_https\": \"https://abs.twimg.com/images/themes/theme15/bg.png\", \"profile_background_tile\": false, \"profile_image_url\": \"http://pbs.twimg.com/profile_images/1090989590796734464/Qe-gucwn_normal.jpg\", \"profile_image_url_https\": \"https://pbs.twimg.com/profile_images/1090989590796734464/Qe-gucwn_normal.jpg\", \"profile_banner_url\": \"https://pbs.twimg.com/profile_banners/210534264/1542630530\", \"profile_link_color\": \"0084B4\", \"profile_sidebar_border_color\": \"A8C7F7\", \"profile_sidebar_fill_color\": \"C0DFEC\", \"profile_text_color\": \"333333\", \n",
    "\"profile_use_background_image\": true, \"has_extended_profile\": false, \"default_profile\": false, \"default_profile_image\": false, \n",
    "\"following\": false, \"follow_request_sent\": false, \"notifications\": false, \"translator_type\": \"none\"}, \n",
    "\"geo\": null, \n",
    "\"coordinates\": null, \"place\": null, \"contributors\": null, \n",
    "\"is_quote_status\": false, \"retweet_count\": 40, \n",
    "\"favorite_count\": 296, \"favorited\": false, \"retweeted\": false, \"lang\": \"en\"}, \n",
    "\"is_quote_status\": false,\n",
    " \"retweet_count\": 40, \"favorite_count\": 0, \n",
    "\"favorited\": false, \"retweeted\": false, \"lang\": \"en\"}"
   ]
  },
  {
   "cell_type": "code",
   "execution_count": 10,
   "metadata": {},
   "outputs": [],
   "source": [
    "raw_data = json_normalize(jsondata)\n",
    "df = pd.DataFrame(raw_data , columns = [\"created_at\" ,\"id\", \"id_str\",\"text\",\"truncated\",\"entities\"])"
   ]
  },
  {
   "cell_type": "code",
   "execution_count": 11,
   "metadata": {},
   "outputs": [
    {
     "name": "stdout",
     "output_type": "stream",
     "text": [
      "  contributors coordinates                      created_at entities.hashtags  \\\n",
      "0         None        None  Sat Jan 18 23:48:40 +0000 2020                []   \n",
      "\n",
      "  entities.symbols entities.urls  \\\n",
      "0               []            []   \n",
      "\n",
      "                              entities.user_mentions  favorite_count  \\\n",
      "0  [{'screen_name': 'BHCdotcom', 'name': 'Buffalo...               0   \n",
      "\n",
      "   favorited   geo  ...  user.profile_text_color  \\\n",
      "0      False  None  ...                   333333   \n",
      "\n",
      "  user.profile_use_background_image user.protected user.screen_name  \\\n",
      "0                              True          False       AndyProvin   \n",
      "\n",
      "  user.statuses_count user.time_zone user.translator_type  \\\n",
      "0               10474           None                 none   \n",
      "\n",
      "                  user.url user.utc_offset user.verified  \n",
      "0  https://t.co/mTzt8Gw6bS            None         False  \n",
      "\n",
      "[1 rows x 140 columns]\n"
     ]
    }
   ],
   "source": [
    "print(raw_data)\n"
   ]
  },
  {
   "cell_type": "code",
   "execution_count": 12,
   "metadata": {},
   "outputs": [
    {
     "name": "stdout",
     "output_type": "stream",
     "text": [
      "0    RT @BHCdotcom: March 27, 2012\\n\\nLeino-Roy-Pom...\n",
      "Name: text, dtype: object\n"
     ]
    }
   ],
   "source": [
    "print(df['text'])"
   ]
  },
  {
   "cell_type": "code",
   "execution_count": 13,
   "metadata": {},
   "outputs": [
    {
     "name": "stdout",
     "output_type": "stream",
     "text": [
      "  contributors coordinates                      created_at entities.hashtags  \\\n",
      "0         None        None  Sat Jan 18 23:48:40 +0000 2020                []   \n",
      "\n",
      "  entities.symbols entities.urls  \\\n",
      "0               []            []   \n",
      "\n",
      "                              entities.user_mentions  favorite_count  \\\n",
      "0  [{'screen_name': 'BHCdotcom', 'name': 'Buffalo...               0   \n",
      "\n",
      "   favorited   geo  ...  user.profile_text_color  \\\n",
      "0      False  None  ...                   333333   \n",
      "\n",
      "  user.profile_use_background_image user.protected user.screen_name  \\\n",
      "0                              True          False       AndyProvin   \n",
      "\n",
      "  user.statuses_count user.time_zone user.translator_type  \\\n",
      "0               10474           None                 none   \n",
      "\n",
      "                  user.url user.utc_offset user.verified  \n",
      "0  https://t.co/mTzt8Gw6bS            None         False  \n",
      "\n",
      "[1 rows x 140 columns]\n"
     ]
    }
   ],
   "source": [
    "pprint.pprint(raw_data)"
   ]
  },
  {
   "cell_type": "code",
   "execution_count": 14,
   "metadata": {},
   "outputs": [
    {
     "name": "stdout",
     "output_type": "stream",
     "text": [
      "                       created_at                   id               id_str  \\\n",
      "0  Sat Jan 18 23:48:40 +0000 2020  1218681643826843650  1218681643826843650   \n",
      "\n",
      "                                                text  truncated  entities  \n",
      "0  RT @BHCdotcom: March 27, 2012\\n\\nLeino-Roy-Pom...      False       NaN  \n"
     ]
    }
   ],
   "source": [
    "print(df.head())"
   ]
  },
  {
   "cell_type": "code",
   "execution_count": null,
   "metadata": {},
   "outputs": [],
   "source": []
  }
 ],
 "metadata": {
  "file_extension": ".py",
  "kernelspec": {
   "display_name": "Python 3",
   "language": "python",
   "name": "python3"
  },
  "language_info": {
   "codemirror_mode": {
    "name": "ipython",
    "version": 3
   },
   "file_extension": ".py",
   "mimetype": "text/x-python",
   "name": "python",
   "nbconvert_exporter": "python",
   "pygments_lexer": "ipython3",
   "version": "3.7.3"
  },
  "mimetype": "text/x-python",
  "name": "python",
  "npconvert_exporter": "python",
  "pygments_lexer": "ipython3",
  "version": 3
 },
 "nbformat": 4,
 "nbformat_minor": 2
}
